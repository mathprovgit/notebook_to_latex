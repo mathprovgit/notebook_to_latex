{
 "cells": [
  {
   "cell_type": "markdown",
   "metadata": {},
   "source": [
    "# Initialisation"
   ]
  },
  {
   "cell_type": "markdown",
   "metadata": {
    "ExecuteTime": {
     "end_time": "2019-12-12T08:29:39.042893Z",
     "start_time": "2019-12-12T08:29:39.040650Z"
    }
   },
   "source": [
    "## import packages"
   ]
  },
  {
   "cell_type": "code",
   "execution_count": 1,
   "metadata": {
    "ExecuteTime": {
     "end_time": "2019-12-11T08:18:59.639588Z",
     "start_time": "2019-12-11T08:18:54.110490Z"
    },
    "code_folding": [],
    "slideshow": {
     "slide_type": "-"
    }
   },
   "outputs": [],
   "source": [
    "#import packages\n",
    "import numpy as np\n",
    "import pandas as pd\n",
    "#import datetime as dt\n",
    "import matplotlib.pyplot as plt\n",
    "#from matplotlib.lines import Line2D\n",
    "from matplotlib.patches import Patch\n",
    "%matplotlib inline\n",
    "from prettytable import PrettyTable\n",
    "from ipypublish import nb_setup\n",
    "from IPython.display import set_matplotlib_formats\n",
    "import Pretty_Table as pt\n",
    "#define the chart overall settings\n",
    "set_matplotlib_formats('pdf', 'png')\n",
    "plt.rcParams['savefig.dpi'] = 75\n",
    "plt.rcParams['figure.autolayout'] = False\n",
    "plt.rcParams['figure.figsize'] = 12, 6\n",
    "plt.rcParams['axes.labelsize'] = 18\n",
    "plt.rcParams['axes.titlesize'] = 20\n",
    "plt.rcParams['font.size'] = 16\n",
    "plt.rcParams['lines.linewidth'] = 2.0\n",
    "plt.rcParams['lines.markersize'] = 8\n",
    "plt.rcParams['legend.fontsize'] = 14"
   ]
  },
  {
   "cell_type": "markdown",
   "metadata": {},
   "source": [
    "## definition of functions"
   ]
  },
  {
   "cell_type": "markdown",
   "metadata": {},
   "source": [
    "### function tp display beatiful tables"
   ]
  },
  {
   "cell_type": "code",
   "execution_count": 2,
   "metadata": {
    "ExecuteTime": {
     "end_time": "2019-12-11T08:18:59.647566Z",
     "start_time": "2019-12-11T08:18:59.641582Z"
    },
    "code_folding": []
   },
   "outputs": [],
   "source": [
    "#function for beatiful tables \n",
    "pd = nb_setup.setup_pandas(escape_latex=True)\n",
    "def format_for_print(df,n=0,wide=False):\n",
    "    #latex = df.round(n).to_latex(index=True)\n",
    "    #html = df.to_html(index=True)   \n",
    "    #return display({'text/latex': latex,'text/html': html}, raw=True)\n",
    "    #return df.round(n)\n",
    "    df2=df.round(n).reset_index()\n",
    "    col=[w.replace(\"_\", \" \") for w in list(df2.columns)]\n",
    "    return pt.PrettyTable(df2.values,col,wide_table=wide)"
   ]
  },
  {
   "cell_type": "markdown",
   "metadata": {},
   "source": [
    "### function for charts"
   ]
  },
  {
   "cell_type": "markdown",
   "metadata": {},
   "source": [
    "#### bar charts"
   ]
  },
  {
   "cell_type": "code",
   "execution_count": null,
   "metadata": {},
   "outputs": [],
   "source": []
  },
  {
   "cell_type": "markdown",
   "metadata": {},
   "source": [
    "#### scatter charts"
   ]
  },
  {
   "cell_type": "code",
   "execution_count": null,
   "metadata": {},
   "outputs": [],
   "source": []
  },
  {
   "cell_type": "markdown",
   "metadata": {},
   "source": [
    "#### line charts"
   ]
  },
  {
   "cell_type": "code",
   "execution_count": null,
   "metadata": {},
   "outputs": [],
   "source": []
  },
  {
   "cell_type": "markdown",
   "metadata": {},
   "source": [
    "# import data"
   ]
  },
  {
   "cell_type": "code",
   "execution_count": null,
   "metadata": {},
   "outputs": [],
   "source": []
  },
  {
   "cell_type": "markdown",
   "metadata": {},
   "source": [
    "# Example of a table"
   ]
  },
  {
   "cell_type": "markdown",
   "metadata": {},
   "source": [
    "## table short"
   ]
  },
  {
   "cell_type": "code",
   "execution_count": null,
   "metadata": {},
   "outputs": [],
   "source": []
  },
  {
   "cell_type": "markdown",
   "metadata": {
    "ExecuteTime": {
     "end_time": "2019-12-11T08:18:59.965122Z",
     "start_time": "2019-12-11T08:18:59.650114Z"
    },
    "code_folding": [],
    "scrolled": false
   },
   "source": [
    "## Table wide"
   ]
  },
  {
   "cell_type": "code",
   "execution_count": null,
   "metadata": {},
   "outputs": [],
   "source": []
  },
  {
   "cell_type": "markdown",
   "metadata": {},
   "source": [
    "# Example of chart"
   ]
  },
  {
   "cell_type": "markdown",
   "metadata": {
    "ExecuteTime": {
     "end_time": "2019-12-12T08:24:28.636853Z",
     "start_time": "2019-12-12T08:24:28.632863Z"
    },
    "code_folding": []
   },
   "source": [
    "## chart bar"
   ]
  },
  {
   "cell_type": "code",
   "execution_count": null,
   "metadata": {},
   "outputs": [],
   "source": []
  },
  {
   "cell_type": "markdown",
   "metadata": {},
   "source": [
    "## chart scatter"
   ]
  },
  {
   "cell_type": "code",
   "execution_count": null,
   "metadata": {},
   "outputs": [],
   "source": []
  },
  {
   "cell_type": "markdown",
   "metadata": {},
   "source": [
    "## chart line"
   ]
  },
  {
   "cell_type": "code",
   "execution_count": null,
   "metadata": {},
   "outputs": [],
   "source": []
  },
  {
   "cell_type": "markdown",
   "metadata": {},
   "source": [
    "# Generation of the template"
   ]
  },
  {
   "cell_type": "code",
   "execution_count": 78,
   "metadata": {
    "ExecuteTime": {
     "end_time": "2019-12-11T08:19:27.375163Z",
     "start_time": "2019-12-11T08:19:27.367184Z"
    },
    "code_folding": []
   },
   "outputs": [
    {
     "name": "stdout",
     "output_type": "stream",
     "text": [
      "Overwriting hidecode.tplx\n"
     ]
    }
   ],
   "source": [
    "%%writefile template.tplx\n",
    "\n",
    "((*- extends 'article.tplx' -*))\n",
    "\n",
    "((* block input_group *))\n",
    "    ((*- if cell.metadata.get('nbconvert', {}).get('show_code', False) -*))\n",
    "        ((( super() )))\n",
    "    ((*- endif -*))\n",
    "((* endblock input_group *))\n",
    " \n",
    "((* block docclass *))\n",
    "\\documentclass[reprint, floatfix, groupaddress, prb]{article}\n",
    "\n",
    "\\usepackage{placeins}\n",
    "\\usepackage{graphicx}\n",
    "\\usepackage{multirow}\n",
    "\\usepackage{array}\n",
    "\\usepackage[table]{xcolor} \n",
    "\n",
    "\\AtBeginDocument{\n",
    "\\heavyrulewidth=.08em\n",
    "\\lightrulewidth=.05em\n",
    "\\cmidrulewidth=.03em\n",
    "\\belowbottomsep=0pt\n",
    "\\aboverulesep=.4ex\n",
    "\\abovetopsep=0pt\n",
    "\\cmidrulesep=\\doublerulesep\n",
    "\\cmidrulekern=.5em\n",
    "\\defaultaddspace=.5em\n",
    "}\n",
    "\n",
    "((* endblock docclass *))\n",
    "\n",
    "% Author and Title from metadata\n",
    "((* block maketitle *))\n",
    "\n",
    "\\title{\\huge{\\textbf{H-Disnet prototype Wangen}}\\\\[2ex]  \\LARGE{A comparison study between the\\\\ ZAHW and the Watergy Absorber design}}\n",
    "\\author{Mathieu Provost}\n",
    "\\date{\\today}\n",
    "   \n",
    "\\makeatletter         \n",
    "\\def\\@maketitle{\n",
    "\\raggedright\n",
    "\n",
    "\\begin{center}\n",
    "\\includegraphics{pics/h-disnet_logo.png}\\\\[4ex]\n",
    "{\\@title }\\\\[6ex] \n",
    "{\\Large  \\@author}\\\\[4ex] \n",
    "\\@date\\\\[8ex]\n",
    "\\includegraphics{pics/20180612_143600.jpg}\n",
    "\\end{center}}\n",
    "    \n",
    "\\maketitle\n",
    "\n",
    "\\newpage\n",
    "\n",
    "\\tableofcontents\n",
    "\n",
    "\\newpage\n",
    "((* endblock maketitle *))\n",
    "\n",
    "\n",
    "% New mechanism for rendering figures with captions\n",
    "((*- block data_png -*))\n",
    "((*- if cell.metadata.widefigure: -*))\n",
    "    ((( draw_widefigure_with_caption(output.metadata.filenames['image/png'], cell.metadata.caption, cell.metadata.label) )))\n",
    "((*- else -*))\n",
    "    ((*- if cell.metadata.caption: -*))\n",
    "        ((*- if cell.metadata.label: -*))\n",
    "            ((( draw_figure_with_caption(output.metadata.filenames['image/png'], cell.metadata.caption, cell.metadata.label) )))\n",
    "        ((*- else -*))\n",
    "            ((( draw_figure_with_caption(output.metadata.filenames['image/png'], cell.metadata.caption, \"\") )))\n",
    "        ((*- endif *))\n",
    "    ((*- else -*))\n",
    "        ((( draw_figure_with_caption(output.metadata.filenames['image/png'], \"\") )))\n",
    "    ((*- endif *))\n",
    "((*- endif *))\n",
    "((*- endblock -*))\n",
    "((*- block data_jpg -*))\n",
    "((*- if cell.metadata.caption: -*))\n",
    "    ((*- if cell.metadata.label: -*))\n",
    "        ((( draw_figure_with_caption(output.metadata.filenames['image/jpeg'], cell.metadata.caption, cell.metadata.label) )))\n",
    "    ((*- else -*))\n",
    "        ((( draw_figure_with_caption(output.metadata.filenames['image/jpeg'], cell.metadata.caption, \"\") )))\n",
    "    ((*- endif *))\n",
    "((*- else -*))\n",
    "    ((( draw_figure_with_caption(output.metadata.filenames['image/jpeg'], \"\") )))\n",
    "((*- endif *))\n",
    "((*- endblock -*))\n",
    "((*- block data_svg -*))\n",
    "((*- if cell.metadata.caption: -*))\n",
    "    ((*- if cell.metadata.label: -*))\n",
    "        ((( draw_figure_with_caption(output.metadata.filenames['image/svg+xml'], cell.metadata.caption, cell.metadata.label) )))\n",
    "    ((*- else -*))\n",
    "        ((( draw_figure_with_caption(output.metadata.filenames['image/svg+xml'], cell.metadata.caption, \"\") )))\n",
    "    ((*- endif *))\n",
    "((*- else -*))\n",
    "    ((( draw_figure_with_caption(output.metadata.filenames['image/svg+xml'], \"\") )))\n",
    "((*- endif *))\n",
    "((*- endblock -*))\n",
    "((*- block data_pdf -*))\n",
    "((*- if cell.metadata.widefigure: -*))\n",
    "    ((( draw_widefigure_with_caption(output.metadata.filenames['application/pdf'], cell.metadata.caption, cell.metadata.label) )))\n",
    "((*- else -*))\n",
    "    ((*- if cell.metadata.caption: -*))\n",
    "        ((*- if cell.metadata.label: -*))\n",
    "            ((( draw_figure_with_caption(output.metadata.filenames['application/pdf'], cell.metadata.caption, cell.metadata.label) )))\n",
    "        ((*- else -*))\n",
    "            ((( draw_figure_with_caption(output.metadata.filenames['application/pdf'], cell.metadata.caption, \"\") )))\n",
    "        ((*- endif *))\n",
    "    ((*- else -*))\n",
    "        ((( draw_figure_with_caption(output.metadata.filenames['application/pdf'], \"\") )))\n",
    "    ((*- endif *))\n",
    "((*- endif *))\n",
    "((*- endblock -*))\n",
    "\n",
    "% Draw a figure using the graphicx package.\n",
    "((* macro draw_figure_with_caption(filename, caption, label) -*))\n",
    "((* set filename = filename | posix_path *))\n",
    "((*- block figure scoped -*))\n",
    "    \\begin{figure}\n",
    "        \\begin{center}\\adjustimage{max size={0.9\\linewidth}{0.4\\paperheight}}{((( filename )))}\\end{center}\n",
    "        \\caption{((( caption )))}\n",
    "        \\label{((( label )))}\n",
    "    \\end{figure}\n",
    "((*- endblock figure -*))\n",
    "((*- endmacro *))\n",
    "\n",
    "% Draw a figure using the graphicx package.\n",
    "((* macro draw_widefigure_with_caption(filename, caption, label) -*))\n",
    "((* set filename = filename | posix_path *))\n",
    "((*- block figure_wide scoped -*))\n",
    "    \\begin{figure*}\n",
    "        \\begin{center}\\adjustimage{max size={0.9\\linewidth}{0.4\\paperheight}}{((( filename )))}\\end{center}\n",
    "        \\caption{((( caption )))}\n",
    "        \\label{((( label )))}\n",
    "    \\end{figure*}\n",
    "((*- endblock figure_wide -*))\n",
    "((*- endmacro *))"
   ]
  },
  {
   "cell_type": "code",
   "execution_count": null,
   "metadata": {},
   "outputs": [],
   "source": []
  }
 ],
 "metadata": {
  "celltoolbar": "Raw Cell Format",
  "hide_input": false,
  "kernelspec": {
   "display_name": "Python 3",
   "language": "python",
   "name": "python3"
  },
  "language_info": {
   "codemirror_mode": {
    "name": "ipython",
    "version": 3
   },
   "file_extension": ".py",
   "mimetype": "text/x-python",
   "name": "python",
   "nbconvert_exporter": "python",
   "pygments_lexer": "ipython3",
   "version": "3.7.3"
  },
  "toc": {
   "base_numbering": 1,
   "nav_menu": {},
   "number_sections": true,
   "sideBar": true,
   "skip_h1_title": false,
   "title_cell": "Table of Contents",
   "title_sidebar": "Contents",
   "toc_cell": false,
   "toc_position": {
    "height": "calc(100% - 180px)",
    "left": "10px",
    "top": "150px",
    "width": "265.4px"
   },
   "toc_section_display": true,
   "toc_window_display": true
  }
 },
 "nbformat": 4,
 "nbformat_minor": 2
}
